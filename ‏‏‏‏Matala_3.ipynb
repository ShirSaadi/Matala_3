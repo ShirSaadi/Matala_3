{
 "cells": [
  {
   "cell_type": "markdown",
   "id": "16e10989-9640-4bea-9c7a-4664f1a8bb60",
   "metadata": {},
   "source": [
    "# MATALA 3"
   ]
  },
  {
   "cell_type": "markdown",
   "id": "eddd461c-95b9-4f94-949e-0a450723b26b",
   "metadata": {
    "tags": []
   },
   "source": [
    "### by : \n",
    "###      Shir Saadi"
   ]
  },
  {
   "cell_type": "code",
   "execution_count": 29,
   "id": "2a412d80-a7c6-475d-a5af-eb6b8f0d0e10",
   "metadata": {},
   "outputs": [],
   "source": [
    "import pandas as pd\n",
    "import requests"
   ]
  },
  {
   "cell_type": "code",
   "execution_count": 30,
   "id": "e5567e94-d7ef-447b-bed4-b0834424f3a8",
   "metadata": {},
   "outputs": [
    {
     "data": {
      "text/html": [
       "<div>\n",
       "<style scoped>\n",
       "    .dataframe tbody tr th:only-of-type {\n",
       "        vertical-align: middle;\n",
       "    }\n",
       "\n",
       "    .dataframe tbody tr th {\n",
       "        vertical-align: top;\n",
       "    }\n",
       "\n",
       "    .dataframe thead th {\n",
       "        text-align: right;\n",
       "    }\n",
       "</style>\n",
       "<table border=\"1\" class=\"dataframe\">\n",
       "  <thead>\n",
       "    <tr style=\"text-align: right;\">\n",
       "      <th></th>\n",
       "      <th>Target</th>\n",
       "    </tr>\n",
       "  </thead>\n",
       "  <tbody>\n",
       "    <tr>\n",
       "      <th>0</th>\n",
       "      <td>Istanbul</td>\n",
       "    </tr>\n",
       "    <tr>\n",
       "      <th>1</th>\n",
       "      <td>Amsterdam</td>\n",
       "    </tr>\n",
       "    <tr>\n",
       "      <th>2</th>\n",
       "      <td>Valletta</td>\n",
       "    </tr>\n",
       "    <tr>\n",
       "      <th>3</th>\n",
       "      <td>Basel</td>\n",
       "    </tr>\n",
       "    <tr>\n",
       "      <th>4</th>\n",
       "      <td>Doha</td>\n",
       "    </tr>\n",
       "  </tbody>\n",
       "</table>\n",
       "</div>"
      ],
      "text/plain": [
       "      Target\n",
       "0   Istanbul\n",
       "1  Amsterdam\n",
       "2   Valletta\n",
       "3      Basel\n",
       "4       Doha"
      ]
     },
     "execution_count": 30,
     "metadata": {},
     "output_type": "execute_result"
    }
   ],
   "source": [
    "PATH = \"C:\\\\Users\\\\shirs\\\\Desktop\\\\shir saadi\\\\שנה ג סמסטר ב\\\\כרייה וניתוח נתונים מתקדם בפייתון\\\\מטלות\\\\מטלה 3\\\\dests.txt\"\n",
    "data = pd.read_csv(PATH, names=['Target']) \n",
    "data.head()"
   ]
  },
  {
   "cell_type": "markdown",
   "id": "d8c96ed6-1148-44ab-ba68-a13b484d3751",
   "metadata": {},
   "source": [
    "#### פונקציה שמביאה את המרחק והזמן מתל אביב ליעד"
   ]
  },
  {
   "cell_type": "code",
   "execution_count": 31,
   "id": "47269aa2-a5c9-489d-a659-da989e001bbc",
   "metadata": {},
   "outputs": [],
   "source": [
    "def get_distance_and_duration(place):\n",
    "    destination = str(place)\n",
    "    API_KEY = \"my api key\"\n",
    "    TEL_AVIV = str(\"Tel aviv\")\n",
    "    url = f\"https://maps.googleapis.com/maps/api/distancematrix/json?destinations={destination}&origins={TEL_AVIV}&units=kilometer&key={API_KEY}\"\n",
    "    try:\n",
    "        response = requests.get(url)\n",
    "        if not response.status_code == 200:\n",
    "            print(\"HTTP error\",response.status_code)\n",
    "        else:\n",
    "            try:\n",
    "                response = requests.get(url).json()\n",
    "                distance = response[\"rows\"][0][\"elements\"][0][\"distance\"][\"value\"] /1000\n",
    "                duration = response[\"rows\"][0][\"elements\"][0][\"duration\"][\"value\"] # אם שמים טקסט במקום ערך זה מחזיר סטריג של ימים ודקות ולא שעות ודקות לכן המרתי את הערך\n",
    "                hours,seconds = divmod(duration, 3600) #פונקציה שממירה את השניות לשעות ומשאירה את השניות שנותרו כשארית\n",
    "                minutes = seconds // 60\n",
    "                duration_fix = f\"{hours} hours {minutes} min\"\n",
    "                lst=[distance,duration_fix]\n",
    "                return lst\n",
    "            except:\n",
    "                print(\"Response not in valid JSON format\")\n",
    "    except:\n",
    "        print(\"Something went wrong with requests.get\")\n",
    "\n",
    "data[\"Distance_km\"] = data[\"Target\"].apply(lambda x: get_distance_and_duration(x)[0])\n",
    "data[\"Duration (hour+minutes)\"] = data[\"Target\"].apply(lambda x: get_distance_and_duration(x)[1])"
   ]
  },
  {
   "cell_type": "markdown",
   "id": "13caf012-9f95-4772-b76e-1bd19b013372",
   "metadata": {},
   "source": [
    "#### פונקציה שמביאה את קו האורך והרוחב של מקום/כתובת"
   ]
  },
  {
   "cell_type": "code",
   "execution_count": 32,
   "id": "6536d77e-4447-4b24-b0be-46aa5b7a1723",
   "metadata": {},
   "outputs": [],
   "source": [
    "def get_longitude_and_latitude(place):\n",
    "    API_KEY = \"my api key\"\n",
    "    address =  str(place)\n",
    "    url = f\"https://maps.googleapis.com/maps/api/geocode/json?address={address}&key={API_KEY}\"\n",
    "    try:\n",
    "        response = requests.get(url)\n",
    "        if not response.status_code == 200:\n",
    "            print(\"HTTP error\",response.status_code)\n",
    "        else:\n",
    "            try:\n",
    "                response = requests.get(url).json()\n",
    "                longitude = response[\"results\"][0][\"geometry\"][\"location\"][\"lng\"]\n",
    "                latitude = response[\"results\"][0][\"geometry\"][\"location\"][\"lat\"]\n",
    "                lst=[longitude,latitude]\n",
    "                return lst\n",
    "            except:\n",
    "                print(\"Response not in valid JSON format\")\n",
    "    except:\n",
    "        print(\"Something went wrong with requests.get\")\n",
    "\n",
    "data[\"Longitude\"] = data[\"Target\"].apply(lambda x: get_longitude_and_latitude(x)[0])\n",
    "data[\"Latitude\"] = data[\"Target\"].apply(lambda x: get_longitude_and_latitude(x)[1])"
   ]
  },
  {
   "cell_type": "code",
   "execution_count": 33,
   "id": "f95ed78b-5874-4bde-bcfa-47965184fbf7",
   "metadata": {
    "tags": []
   },
   "outputs": [
    {
     "data": {
      "text/html": [
       "<div>\n",
       "<style scoped>\n",
       "    .dataframe tbody tr th:only-of-type {\n",
       "        vertical-align: middle;\n",
       "    }\n",
       "\n",
       "    .dataframe tbody tr th {\n",
       "        vertical-align: top;\n",
       "    }\n",
       "\n",
       "    .dataframe thead th {\n",
       "        text-align: right;\n",
       "    }\n",
       "</style>\n",
       "<table border=\"1\" class=\"dataframe\">\n",
       "  <thead>\n",
       "    <tr style=\"text-align: right;\">\n",
       "      <th></th>\n",
       "      <th>Target</th>\n",
       "      <th>Distance_km</th>\n",
       "      <th>Duration (hour+minutes)</th>\n",
       "      <th>Longitude</th>\n",
       "      <th>Latitude</th>\n",
       "    </tr>\n",
       "  </thead>\n",
       "  <tbody>\n",
       "    <tr>\n",
       "      <th>0</th>\n",
       "      <td>Istanbul</td>\n",
       "      <td>1815.227</td>\n",
       "      <td>21 hours 2 min</td>\n",
       "      <td>28.978359</td>\n",
       "      <td>41.008238</td>\n",
       "    </tr>\n",
       "    <tr>\n",
       "      <th>1</th>\n",
       "      <td>Amsterdam</td>\n",
       "      <td>4532.541</td>\n",
       "      <td>48 hours 3 min</td>\n",
       "      <td>4.904139</td>\n",
       "      <td>52.367573</td>\n",
       "    </tr>\n",
       "    <tr>\n",
       "      <th>2</th>\n",
       "      <td>Valletta</td>\n",
       "      <td>3792.883</td>\n",
       "      <td>50 hours 50 min</td>\n",
       "      <td>14.514100</td>\n",
       "      <td>35.899237</td>\n",
       "    </tr>\n",
       "    <tr>\n",
       "      <th>3</th>\n",
       "      <td>Basel</td>\n",
       "      <td>4092.805</td>\n",
       "      <td>44 hours 2 min</td>\n",
       "      <td>7.588576</td>\n",
       "      <td>47.559599</td>\n",
       "    </tr>\n",
       "    <tr>\n",
       "      <th>4</th>\n",
       "      <td>Doha</td>\n",
       "      <td>2164.477</td>\n",
       "      <td>22 hours 38 min</td>\n",
       "      <td>51.531040</td>\n",
       "      <td>25.285447</td>\n",
       "    </tr>\n",
       "  </tbody>\n",
       "</table>\n",
       "</div>"
      ],
      "text/plain": [
       "      Target  Distance_km Duration (hour+minutes)  Longitude   Latitude\n",
       "0   Istanbul     1815.227          21 hours 2 min  28.978359  41.008238\n",
       "1  Amsterdam     4532.541          48 hours 3 min   4.904139  52.367573\n",
       "2   Valletta     3792.883         50 hours 50 min  14.514100  35.899237\n",
       "3      Basel     4092.805          44 hours 2 min   7.588576  47.559599\n",
       "4       Doha     2164.477         22 hours 38 min  51.531040  25.285447"
      ]
     },
     "execution_count": 33,
     "metadata": {},
     "output_type": "execute_result"
    }
   ],
   "source": [
    "data"
   ]
  },
  {
   "cell_type": "markdown",
   "id": "f70c2c17-5be2-4038-b036-0e374f86a850",
   "metadata": {},
   "source": [
    "#### שלוש הערים הכי רחוקות מתל אביב"
   ]
  },
  {
   "cell_type": "code",
   "execution_count": 34,
   "id": "08639b57-5384-4f54-96d8-477ce608bc88",
   "metadata": {},
   "outputs": [
    {
     "data": {
      "text/html": [
       "<div>\n",
       "<style scoped>\n",
       "    .dataframe tbody tr th:only-of-type {\n",
       "        vertical-align: middle;\n",
       "    }\n",
       "\n",
       "    .dataframe tbody tr th {\n",
       "        vertical-align: top;\n",
       "    }\n",
       "\n",
       "    .dataframe thead th {\n",
       "        text-align: right;\n",
       "    }\n",
       "</style>\n",
       "<table border=\"1\" class=\"dataframe\">\n",
       "  <thead>\n",
       "    <tr style=\"text-align: right;\">\n",
       "      <th></th>\n",
       "      <th>Target</th>\n",
       "      <th>Distance_km</th>\n",
       "      <th>Duration (hour+minutes)</th>\n",
       "      <th>Longitude</th>\n",
       "      <th>Latitude</th>\n",
       "    </tr>\n",
       "  </thead>\n",
       "  <tbody>\n",
       "    <tr>\n",
       "      <th>1</th>\n",
       "      <td>Amsterdam</td>\n",
       "      <td>4532.541</td>\n",
       "      <td>48 hours 3 min</td>\n",
       "      <td>4.904139</td>\n",
       "      <td>52.367573</td>\n",
       "    </tr>\n",
       "    <tr>\n",
       "      <th>3</th>\n",
       "      <td>Basel</td>\n",
       "      <td>4092.805</td>\n",
       "      <td>44 hours 2 min</td>\n",
       "      <td>7.588576</td>\n",
       "      <td>47.559599</td>\n",
       "    </tr>\n",
       "    <tr>\n",
       "      <th>2</th>\n",
       "      <td>Valletta</td>\n",
       "      <td>3792.883</td>\n",
       "      <td>50 hours 50 min</td>\n",
       "      <td>14.514100</td>\n",
       "      <td>35.899237</td>\n",
       "    </tr>\n",
       "  </tbody>\n",
       "</table>\n",
       "</div>"
      ],
      "text/plain": [
       "      Target  Distance_km Duration (hour+minutes)  Longitude   Latitude\n",
       "1  Amsterdam     4532.541          48 hours 3 min   4.904139  52.367573\n",
       "3      Basel     4092.805          44 hours 2 min   7.588576  47.559599\n",
       "2   Valletta     3792.883         50 hours 50 min  14.514100  35.899237"
      ]
     },
     "execution_count": 34,
     "metadata": {},
     "output_type": "execute_result"
    }
   ],
   "source": [
    "# מיון הנתונים לפי מרחק מתל אביב\n",
    "sort_data = data.sort_values(by='Distance_km', ascending=False)\n",
    "sort_data.head(3)"
   ]
  }
 ],
 "metadata": {
  "kernelspec": {
   "display_name": "Python 3 (ipykernel)",
   "language": "python",
   "name": "python3"
  },
  "language_info": {
   "codemirror_mode": {
    "name": "ipython",
    "version": 3
   },
   "file_extension": ".py",
   "mimetype": "text/x-python",
   "name": "python",
   "nbconvert_exporter": "python",
   "pygments_lexer": "ipython3",
   "version": "3.10.9"
  }
 },
 "nbformat": 4,
 "nbformat_minor": 5
}
